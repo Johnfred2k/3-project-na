{
 "cells": [
  {
   "cell_type": "code",
   "execution_count": 80,
   "id": "1e41c22a-0e71-4ac7-95bc-508a91b56cb4",
   "metadata": {},
   "outputs": [],
   "source": [
    "import pandas as pd\n",
    "\n",
    "from sklearn.ensemble import RandomForestRegressor\n",
    "from sklearn.model_selection import train_test_split\n",
    "from sklearn.preprocessing import StandardScaler "
   ]
  },
  {
   "cell_type": "code",
   "execution_count": 81,
   "id": "7c4329e8-d3eb-4447-938f-d001be4ff3a1",
   "metadata": {},
   "outputs": [],
   "source": [
    "df = pd.read_parquet('data/yellow_tripdata_2021-01.parquet')"
   ]
  },
  {
   "cell_type": "code",
   "execution_count": 82,
   "id": "f60d035d-c0c4-4a98-84ce-c1b7b689bee4",
   "metadata": {},
   "outputs": [],
   "source": [
    "df['duration'] = df.tpep_dropoff_datetime-df.tpep_pickup_datetime\n",
    "df['duration_minutes'] = df['duration'] / pd.Timedelta(minutes=1)\n",
    "\n",
    "columns_to_drop = ['duration', 'tpep_pickup_datetime', 'tpep_dropoff_datetime', 'RatecodeID', 'store_and_fwd_flag', 'passenger_count', 'congestion_surcharge']\n",
    "df.drop(columns=columns_to_drop, inplace=True)\n",
    "\n",
    "df['airport_fee'].fillna(0, inplace=True)"
   ]
  },
  {
   "cell_type": "code",
   "execution_count": 83,
   "id": "1c9a1e37-1ea3-4716-8e23-08c8704fa2ff",
   "metadata": {},
   "outputs": [],
   "source": [
    "# define features and target\n",
    "X = df.drop('duration_minutes', axis = 1)\n",
    "y = df['duration_minutes']\n",
    "\n",
    "#train-test-split\n",
    "X_train, X_test, y_train, y_test = train_test_split(X, y, random_state=1)\n",
    "\n",
    "# instantiate model \n",
    "rf_regressor = RandomForestRegressor(n_estimators=100, random_state=42)"
   ]
  },
  {
   "cell_type": "code",
   "execution_count": 85,
   "id": "ad671dd9-49ff-46ff-9676-45acc7f3217a",
   "metadata": {},
   "outputs": [],
   "source": [
    "# Initialize the StandardScaler\n",
    "scaler = StandardScaler()\n",
    "\n",
    "# scaler training and scaling on the train data\n",
    "X_train_scaled = scaler.fit_transform(X_train)\n",
    "\n",
    "# scaling on the test data\n",
    "X_test_transformed = scaler.transform(X_test)"
   ]
  },
  {
   "cell_type": "code",
   "execution_count": 86,
   "id": "3c980500-c79f-43bf-a246-3c8e61439a3f",
   "metadata": {},
   "outputs": [],
   "source": [
    "rf_regressor.fit(X_train_scaled, y_train)\n",
    "y_pred = rf_regressor.predict(X_test_transformed)"
   ]
  }
 ],
 "metadata": {
  "kernelspec": {
   "display_name": "Python 3 (ipykernel)",
   "language": "python",
   "name": "python3"
  },
  "language_info": {
   "codemirror_mode": {
    "name": "ipython",
    "version": 3
   },
   "file_extension": ".py",
   "mimetype": "text/x-python",
   "name": "python",
   "nbconvert_exporter": "python",
   "pygments_lexer": "ipython3",
   "version": "3.11.3"
  }
 },
 "nbformat": 4,
 "nbformat_minor": 5
}
